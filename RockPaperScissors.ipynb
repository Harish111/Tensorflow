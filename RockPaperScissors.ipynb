{
  "nbformat": 4,
  "nbformat_minor": 0,
  "metadata": {
    "colab": {
      "name": "RockPaperScissors.ipynb",
      "provenance": []
    },
    "kernelspec": {
      "name": "python3",
      "display_name": "Python 3"
    },
    "accelerator": "GPU"
  },
  "cells": [
    {
      "cell_type": "code",
      "metadata": {
        "id": "CfZ_HOfGdFV_",
        "colab_type": "code",
        "outputId": "4159a938-b261-4d6e-e513-7ba009a5167f",
        "colab": {
          "base_uri": "https://localhost:8080/",
          "height": 391
        }
      },
      "source": [
        "!wget --no-check-certificate \\\n",
        "    https://storage.googleapis.com/laurencemoroney-blog.appspot.com/rps.zip \\\n",
        "    -O /tmp/rps.zip\n",
        "  \n",
        "!wget --no-check-certificate \\\n",
        "    https://storage.googleapis.com/laurencemoroney-blog.appspot.com/rps-test-set.zip \\\n",
        "    -O /tmp/rps-test-set.zip"
      ],
      "execution_count": 0,
      "outputs": [
        {
          "output_type": "stream",
          "text": [
            "--2020-05-03 03:51:18--  https://storage.googleapis.com/laurencemoroney-blog.appspot.com/rps.zip\n",
            "Resolving storage.googleapis.com (storage.googleapis.com)... 173.194.69.128, 2a00:1450:4013:c04::80\n",
            "Connecting to storage.googleapis.com (storage.googleapis.com)|173.194.69.128|:443... connected.\n",
            "HTTP request sent, awaiting response... 200 OK\n",
            "Length: 200682221 (191M) [application/zip]\n",
            "Saving to: ‘/tmp/rps.zip’\n",
            "\n",
            "/tmp/rps.zip        100%[===================>] 191.38M  90.4MB/s    in 2.1s    \n",
            "\n",
            "2020-05-03 03:51:20 (90.4 MB/s) - ‘/tmp/rps.zip’ saved [200682221/200682221]\n",
            "\n",
            "--2020-05-03 03:51:22--  https://storage.googleapis.com/laurencemoroney-blog.appspot.com/rps-test-set.zip\n",
            "Resolving storage.googleapis.com (storage.googleapis.com)... 108.177.119.128, 2a00:1450:4013:c01::80\n",
            "Connecting to storage.googleapis.com (storage.googleapis.com)|108.177.119.128|:443... connected.\n",
            "HTTP request sent, awaiting response... 200 OK\n",
            "Length: 29516758 (28M) [application/zip]\n",
            "Saving to: ‘/tmp/rps-test-set.zip’\n",
            "\n",
            "/tmp/rps-test-set.z 100%[===================>]  28.15M  93.5MB/s    in 0.3s    \n",
            "\n",
            "2020-05-03 03:51:23 (93.5 MB/s) - ‘/tmp/rps-test-set.zip’ saved [29516758/29516758]\n",
            "\n"
          ],
          "name": "stdout"
        }
      ]
    },
    {
      "cell_type": "code",
      "metadata": {
        "id": "63y91ck7dSJz",
        "colab_type": "code",
        "colab": {}
      },
      "source": [
        "import os\n",
        "import zipfile\n",
        "\n",
        "local_zip = '/tmp/rps.zip'\n",
        "zip_ref = zipfile.ZipFile(local_zip,'r')\n",
        "zip_ref.extractall('tmp')\n",
        "zip_ref.close()\n",
        "\n",
        "local_file = '/tmp/rps-test-set.zip'\n",
        "zip_ref = zipfile.ZipFile(local_file,'r')\n",
        "zip_ref.extractall('tmp')\n",
        "zip_ref.close()"
      ],
      "execution_count": 0,
      "outputs": []
    },
    {
      "cell_type": "code",
      "metadata": {
        "id": "OZdHrGRQeirj",
        "colab_type": "code",
        "outputId": "af5ca390-1612-4f34-c2a0-871683c61c0f",
        "colab": {
          "base_uri": "https://localhost:8080/",
          "height": 34
        }
      },
      "source": [
        "rock_dir = os.path.join('tmp/rps/rock')\n",
        "paper_dir = os.path.join('tmp/rps/paper')\n",
        "scissors_dir = os.path.join('tmp/rps/scissors')\n",
        "\n",
        "#print(os.listdir('tmp/rps/rock'))\n",
        "print(len(os.listdir(rock_dir)))\n",
        "\n",
        "rock_file = os.listdir(rock_dir)\n",
        "paper_file = os.listdir(paper_dir)\n",
        "scissors_file = os.listdir(scissors_dir)\n",
        "\n"
      ],
      "execution_count": 0,
      "outputs": [
        {
          "output_type": "stream",
          "text": [
            "840\n"
          ],
          "name": "stdout"
        }
      ]
    },
    {
      "cell_type": "code",
      "metadata": {
        "id": "mFrRj1j9gmZg",
        "colab_type": "code",
        "outputId": "3a699e44-46ea-48ed-8429-381541464527",
        "colab": {
          "base_uri": "https://localhost:8080/",
          "height": 34
        }
      },
      "source": [
        "from keras.preprocessing.image import ImageDataGenerator\n",
        "\n",
        "train_datagen = ImageDataGenerator(\n",
        "        rotation_range=40,\n",
        "        width_shift_range=0.2,\n",
        "        height_shift_range=0.2,\n",
        "        rescale=1./255,\n",
        "        shear_range=0.2,\n",
        "        zoom_range=0.2,\n",
        "        horizontal_flip=True,\n",
        "        fill_mode='nearest')\n",
        "test_datagen = ImageDataGenerator(\n",
        "        rescale=1./255)"
      ],
      "execution_count": 0,
      "outputs": [
        {
          "output_type": "stream",
          "text": [
            "Using TensorFlow backend.\n"
          ],
          "name": "stderr"
        }
      ]
    },
    {
      "cell_type": "code",
      "metadata": {
        "id": "v1lSdkxWhdFc",
        "colab_type": "code",
        "outputId": "cd360d17-714d-43d5-af7e-9793259bb1d6",
        "colab": {
          "base_uri": "https://localhost:8080/",
          "height": 51
        }
      },
      "source": [
        "\n",
        "train_generator = train_datagen.flow_from_directory(\n",
        "\t\"tmp/rps\",\n",
        "\ttarget_size=(150,150),\n",
        "\tclass_mode='categorical',\n",
        "  batch_size=126\n",
        ")\n",
        "\n",
        "validation_generator = test_datagen.flow_from_directory(\n",
        "\t\"tmp/rps-test-set\",\n",
        "\ttarget_size=(150,150),\n",
        "\tclass_mode='categorical',\n",
        "  batch_size=126\n",
        ")"
      ],
      "execution_count": 0,
      "outputs": [
        {
          "output_type": "stream",
          "text": [
            "Found 2520 images belonging to 3 classes.\n",
            "Found 372 images belonging to 3 classes.\n"
          ],
          "name": "stdout"
        }
      ]
    },
    {
      "cell_type": "code",
      "metadata": {
        "id": "HcUB779whWBR",
        "colab_type": "code",
        "outputId": "d38f2733-afa2-4c7a-8a82-36ad758d979f",
        "colab": {
          "base_uri": "https://localhost:8080/",
          "height": 731
        }
      },
      "source": [
        "from keras.models import Sequential\n",
        "from keras.layers import Conv2D, MaxPooling2D\n",
        "from keras.layers import Activation, Dropout, Flatten, Dense\n",
        "import tensorflow as tf\n",
        "import keras_preprocessing\n",
        "from keras_preprocessing import image\n",
        "from keras_preprocessing.image import ImageDataGenerator\n",
        "\n",
        "model = Sequential()\n",
        "model.add(Conv2D(64, (3, 3), input_shape=(150,150,3)))\n",
        "model.add(Activation('relu'))\n",
        "model.add(MaxPooling2D(pool_size=(2, 2)))\n",
        "\n",
        "model.add(Conv2D(64, (3, 3)))\n",
        "model.add(Activation('relu'))\n",
        "model.add(MaxPooling2D(pool_size=(2, 2)))\n",
        "\n",
        "model.add(Conv2D(128, (3, 3)))\n",
        "model.add(Activation('relu'))\n",
        "model.add(MaxPooling2D(pool_size=(2, 2)))\n",
        "\n",
        "model.add(Conv2D(128, (3, 3)))\n",
        "model.add(Activation('relu'))\n",
        "model.add(MaxPooling2D(pool_size=(2, 2)))\n",
        "\n",
        "model.add(Flatten())  # this converts our 3D feature maps to 1D feature vectors\n",
        "model.add(Dropout(0.5))\n",
        "model.add(Dense(512,activation='relu'))\n",
        "\n",
        "model.add(Dense(3))\n",
        "model.add(Activation('sigmoid'))\n",
        "\n",
        "model.compile(loss='binary_crossentropy',\n",
        "              optimizer='rmsprop',\n",
        "              metrics=['accuracy'])\n",
        "\n",
        "model.summary()\n",
        "model.compile(optimizer='rmsprop',\n",
        "              loss='binary_crossentropy',\n",
        "              metrics=['accuracy'])"
      ],
      "execution_count": 0,
      "outputs": [
        {
          "output_type": "stream",
          "text": [
            "Model: \"sequential_1\"\n",
            "_________________________________________________________________\n",
            "Layer (type)                 Output Shape              Param #   \n",
            "=================================================================\n",
            "conv2d_1 (Conv2D)            (None, 148, 148, 64)      1792      \n",
            "_________________________________________________________________\n",
            "activation_1 (Activation)    (None, 148, 148, 64)      0         \n",
            "_________________________________________________________________\n",
            "max_pooling2d_1 (MaxPooling2 (None, 74, 74, 64)        0         \n",
            "_________________________________________________________________\n",
            "conv2d_2 (Conv2D)            (None, 72, 72, 64)        36928     \n",
            "_________________________________________________________________\n",
            "activation_2 (Activation)    (None, 72, 72, 64)        0         \n",
            "_________________________________________________________________\n",
            "max_pooling2d_2 (MaxPooling2 (None, 36, 36, 64)        0         \n",
            "_________________________________________________________________\n",
            "conv2d_3 (Conv2D)            (None, 34, 34, 128)       73856     \n",
            "_________________________________________________________________\n",
            "activation_3 (Activation)    (None, 34, 34, 128)       0         \n",
            "_________________________________________________________________\n",
            "max_pooling2d_3 (MaxPooling2 (None, 17, 17, 128)       0         \n",
            "_________________________________________________________________\n",
            "conv2d_4 (Conv2D)            (None, 15, 15, 128)       147584    \n",
            "_________________________________________________________________\n",
            "activation_4 (Activation)    (None, 15, 15, 128)       0         \n",
            "_________________________________________________________________\n",
            "max_pooling2d_4 (MaxPooling2 (None, 7, 7, 128)         0         \n",
            "_________________________________________________________________\n",
            "flatten_1 (Flatten)          (None, 6272)              0         \n",
            "_________________________________________________________________\n",
            "dropout_1 (Dropout)          (None, 6272)              0         \n",
            "_________________________________________________________________\n",
            "dense_1 (Dense)              (None, 512)               3211776   \n",
            "_________________________________________________________________\n",
            "dense_2 (Dense)              (None, 3)                 1539      \n",
            "_________________________________________________________________\n",
            "activation_5 (Activation)    (None, 3)                 0         \n",
            "=================================================================\n",
            "Total params: 3,473,475\n",
            "Trainable params: 3,473,475\n",
            "Non-trainable params: 0\n",
            "_________________________________________________________________\n"
          ],
          "name": "stdout"
        }
      ]
    },
    {
      "cell_type": "code",
      "metadata": {
        "id": "zwmlQWAOkcXQ",
        "colab_type": "code",
        "outputId": "4fc6c507-b2ab-4481-9525-17e76a796196",
        "colab": {
          "base_uri": "https://localhost:8080/",
          "height": 887
        }
      },
      "source": [
        "history = model.fit(train_generator,epochs=25, steps_per_epoch=20, validation_data=validation_generator, verbose = 1, validation_steps=3)\n",
        "model.save(\"rps.h5\")"
      ],
      "execution_count": 0,
      "outputs": [
        {
          "output_type": "stream",
          "text": [
            "Epoch 1/25\n",
            "20/20 [==============================] - 22s 1s/step - loss: 0.8419 - accuracy: 0.6311 - val_loss: 0.6165 - val_accuracy: 0.7142\n",
            "Epoch 2/25\n",
            "20/20 [==============================] - 19s 942ms/step - loss: 0.6395 - accuracy: 0.6701 - val_loss: 0.5300 - val_accuracy: 0.6783\n",
            "Epoch 3/25\n",
            "20/20 [==============================] - 19s 960ms/step - loss: 0.6071 - accuracy: 0.6914 - val_loss: 0.5987 - val_accuracy: 0.6694\n",
            "Epoch 4/25\n",
            "20/20 [==============================] - 19s 957ms/step - loss: 0.5776 - accuracy: 0.7099 - val_loss: 0.5588 - val_accuracy: 0.6998\n",
            "Epoch 5/25\n",
            "20/20 [==============================] - 19s 952ms/step - loss: 0.4613 - accuracy: 0.7808 - val_loss: 0.4188 - val_accuracy: 0.7930\n",
            "Epoch 6/25\n",
            "20/20 [==============================] - 19s 955ms/step - loss: 0.4555 - accuracy: 0.7889 - val_loss: 0.2736 - val_accuracy: 0.9238\n",
            "Epoch 7/25\n",
            "20/20 [==============================] - 19s 956ms/step - loss: 0.3619 - accuracy: 0.8413 - val_loss: 0.2053 - val_accuracy: 0.9507\n",
            "Epoch 8/25\n",
            "20/20 [==============================] - 19s 962ms/step - loss: 0.2849 - accuracy: 0.8746 - val_loss: 0.1270 - val_accuracy: 0.9328\n",
            "Epoch 9/25\n",
            "20/20 [==============================] - 19s 955ms/step - loss: 0.2391 - accuracy: 0.8962 - val_loss: 0.0715 - val_accuracy: 0.9839\n",
            "Epoch 10/25\n",
            "20/20 [==============================] - 19s 955ms/step - loss: 0.1833 - accuracy: 0.9271 - val_loss: 0.0407 - val_accuracy: 0.9866\n",
            "Epoch 11/25\n",
            "20/20 [==============================] - 19s 952ms/step - loss: 0.2330 - accuracy: 0.9028 - val_loss: 0.0665 - val_accuracy: 0.9758\n",
            "Epoch 12/25\n",
            "20/20 [==============================] - 19s 961ms/step - loss: 0.1156 - accuracy: 0.9573 - val_loss: 0.0520 - val_accuracy: 0.9794\n",
            "Epoch 13/25\n",
            "20/20 [==============================] - 19s 954ms/step - loss: 0.1571 - accuracy: 0.9328 - val_loss: 0.0312 - val_accuracy: 0.9937\n",
            "Epoch 14/25\n",
            "20/20 [==============================] - 19s 961ms/step - loss: 0.1147 - accuracy: 0.9556 - val_loss: 0.1542 - val_accuracy: 0.9158\n",
            "Epoch 15/25\n",
            "20/20 [==============================] - 19s 965ms/step - loss: 0.1306 - accuracy: 0.9452 - val_loss: 0.0302 - val_accuracy: 0.9839\n",
            "Epoch 16/25\n",
            "20/20 [==============================] - 19s 965ms/step - loss: 0.1032 - accuracy: 0.9603 - val_loss: 0.0579 - val_accuracy: 0.9713\n",
            "Epoch 17/25\n",
            "20/20 [==============================] - 19s 953ms/step - loss: 0.1036 - accuracy: 0.9598 - val_loss: 0.0449 - val_accuracy: 0.9731\n",
            "Epoch 18/25\n",
            "20/20 [==============================] - 19s 953ms/step - loss: 0.1039 - accuracy: 0.9606 - val_loss: 0.0651 - val_accuracy: 0.9633\n",
            "Epoch 19/25\n",
            "20/20 [==============================] - 19s 956ms/step - loss: 0.0844 - accuracy: 0.9683 - val_loss: 0.1072 - val_accuracy: 0.9615\n",
            "Epoch 20/25\n",
            "20/20 [==============================] - 19s 960ms/step - loss: 0.0758 - accuracy: 0.9717 - val_loss: 0.0295 - val_accuracy: 0.9901\n",
            "Epoch 21/25\n",
            "20/20 [==============================] - 19s 959ms/step - loss: 0.0513 - accuracy: 0.9833 - val_loss: 0.0237 - val_accuracy: 0.9892\n",
            "Epoch 22/25\n",
            "20/20 [==============================] - 19s 962ms/step - loss: 0.0824 - accuracy: 0.9683 - val_loss: 0.0310 - val_accuracy: 0.9749\n",
            "Epoch 23/25\n",
            "20/20 [==============================] - 19s 956ms/step - loss: 0.0452 - accuracy: 0.9832 - val_loss: 0.0385 - val_accuracy: 0.9812\n",
            "Epoch 24/25\n",
            "20/20 [==============================] - 19s 957ms/step - loss: 0.0652 - accuracy: 0.9763 - val_loss: 0.0352 - val_accuracy: 0.9839\n",
            "Epoch 25/25\n",
            "20/20 [==============================] - 20s 977ms/step - loss: 0.0601 - accuracy: 0.9784 - val_loss: 0.0188 - val_accuracy: 0.9749\n"
          ],
          "name": "stdout"
        }
      ]
    },
    {
      "cell_type": "code",
      "metadata": {
        "id": "-pjkjGmSqxVc",
        "colab_type": "code",
        "outputId": "032508c9-eb30-4dc3-cfde-134bc003562f",
        "colab": {
          "base_uri": "https://localhost:8080/",
          "height": 374
        }
      },
      "source": [
        "from PIL import Image\n",
        "import numpy as np\n",
        "from skimage import transform\n",
        "%pylab inline\n",
        "import matplotlib.pyplot as plt\n",
        "import matplotlib.image as mpimg\n",
        "def load(filename):\n",
        "   np_image = Image.open(filename)\n",
        "   np_image = np.array(np_image).astype('float32')/255\n",
        "   np_image = transform.resize(np_image, (150,150, 3))\n",
        "   np_image = np.expand_dims(np_image, axis=0)\n",
        "   return np_image\n",
        "\n",
        "image = load('tmp/rps/rock/rock01-100.png')\n",
        "classes = model.predict(image)\n",
        "print(classes)\n",
        "\n",
        "img=mpimg.imread('tmp/rps/rock/rock01-100.png')\n",
        "imgplot = plt.imshow(img)\n",
        "plt.show()"
      ],
      "execution_count": 0,
      "outputs": [
        {
          "output_type": "stream",
          "text": [
            "Populating the interactive namespace from numpy and matplotlib\n",
            "[[0.38762298 0.5477021  0.40211245]]\n"
          ],
          "name": "stdout"
        },
        {
          "output_type": "stream",
          "text": [
            "/usr/local/lib/python3.6/dist-packages/IPython/core/magics/pylab.py:161: UserWarning: pylab import has clobbered these variables: ['load']\n",
            "`%matplotlib` prevents importing * from pylab and numpy\n",
            "  \"\\n`%matplotlib` prevents importing * from pylab and numpy\"\n"
          ],
          "name": "stderr"
        },
        {
          "output_type": "display_data",
          "data": {
            "image/png": "[encoded data removed]",
            "text/plain": [
              "<Figure size 432x288 with 1 Axes>"
            ]
          },
          "metadata": {
            "tags": [],
            "needs_background": "light"
          }
        }
      ]
    },
    {
      "cell_type": "code",
      "metadata": {
        "id": "aD4iykc-ukq5",
        "colab_type": "code",
        "outputId": "e122c2d2-e982-4b22-f2c6-d559e40808f4",
        "colab": {
          "base_uri": "https://localhost:8080/",
          "height": 298
        }
      },
      "source": [
        "import matplotlib.pyplot as plt\n",
        "acc = history.history['accuracy']\n",
        "val_acc = history.history['val_accuracy']\n",
        "loss = history.history['loss']\n",
        "val_loss = history.history['val_loss']\n",
        "\n",
        "epochs = range(len(acc))\n",
        "\n",
        "plt.plot(epochs, acc, 'r', label='Training accuracy')\n",
        "plt.plot(epochs, val_acc, 'b', label='Validation accuracy')\n",
        "plt.title('Training and validation accuracy')\n",
        "plt.legend(loc=0)\n",
        "plt.figure()\n",
        "\n",
        "\n",
        "plt.show()"
      ],
      "execution_count": 0,
      "outputs": [
        {
          "output_type": "display_data",
          "data": {
            "image/png": "[encoded data removed]",
            "text/plain": [
              "<Figure size 432x288 with 1 Axes>"
            ]
          },
          "metadata": {
            "tags": [],
            "needs_background": "light"
          }
        },
        {
          "output_type": "display_data",
          "data": {
            "text/plain": [
              "<Figure size 432x288 with 0 Axes>"
            ]
          },
          "metadata": {
            "tags": []
          }
        }
      ]
    },
    {
      "cell_type": "code",
      "metadata": {
        "id": "1ISVuesGIPtw",
        "colab_type": "code",
        "colab": {}
      },
      "source": [
        "import cv2\n"
      ],
      "execution_count": 0,
      "outputs": []
    },
    {
      "cell_type": "code",
      "metadata": {
        "id": "Rau4JwuZIxhf",
        "colab_type": "code",
        "colab": {}
      },
      "source": [
        "video_capture = cv2.VideoCapture(0)\n",
        "\n",
        "while True:\n",
        "    ret, frame = video_capture.read()\n",
        "    if frame is not None:\n",
        "        h, w, _ = frame.shape\n",
        "\n",
        "        # preprocess img acquired\n",
        "        img = cv2.cvtColor(frame, cv2.COLOR_BGR2RGB) # convert bgr to rgb\n",
        "        img = cv2.resize(img, (640, 480)) # resize\n",
        "        img_mean = np.array([127, 127, 127])\n",
        "        img = (img - img_mean) / 128\n",
        "        img = np.transpose(img, [2, 0, 1])\n",
        "        img = np.expand_dims(img, axis=0)\n",
        "        img = img.astype(np.float32)\n",
        "\n",
        "        confidences, boxes = ort_session.run(None, {input_name: img})\n",
        "        boxes, labels, probs = predict(w, h, confidences, boxes, 0.7)\n",
        "\n",
        "        for i in range(boxes.shape[0]):\n",
        "            box = boxes[i, :]\n",
        "            x1, y1, x2, y2 = box\n",
        "            cv2.rectangle(frame, (x1, y1), (x2, y2), (80,18,236), 2)\n",
        "            cv2.rectangle(frame, (x1, y2 - 20), (x2, y2), (80,18,236), cv2.FILLED)\n",
        "            font = cv2.FONT_HERSHEY_DUPLEX\n",
        "            text = f\"face: {labels[i]}\"\n",
        "            cv2.putText(frame, text, (x1 + 6, y2 - 6), font, 0.5, (255, 255, 255), 1)\n",
        "\n",
        "        cv2.imshow('Video', frame)\n",
        "        # Hit 'q' on the keyboard to quit!\n",
        "    if cv2.waitKey(1) & 0xFF == ord('q'):\n",
        "        break\n",
        "\n",
        "# Release handle to the webcam\n",
        "video_capture.release()\n",
        "cv2.destroyAllWindows()"
      ],
      "execution_count": 0,
      "outputs": []
    }
  ]
}