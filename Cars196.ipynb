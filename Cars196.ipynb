{
  "nbformat": 4,
  "nbformat_minor": 0,
  "metadata": {
    "colab": {
      "name": "Cars196.ipynb",
      "provenance": [],
      "machine_shape": "hm"
    },
    "kernelspec": {
      "name": "python3",
      "display_name": "Python 3"
    },
    "accelerator": "GPU"
  },
  "cells": [
    {
      "cell_type": "code",
      "metadata": {
        "id": "AJ302f8yjho7",
        "colab_type": "code",
        "outputId": "d2d9aba3-d060-4e59-f391-cd2a8577119f",
        "colab": {
          "base_uri": "https://localhost:8080/",
          "height": 85
        }
      },
      "source": [
        "import os\n",
        "\n",
        "import matplotlib.pylab as plt\n",
        "import numpy as np\n",
        "\n",
        "import tensorflow as tf\n",
        "import tensorflow_hub as hub\n",
        "AUTOTUNE = tf.data.experimental.AUTOTUNE\n",
        "\n",
        "print(\"Version: \", tf.__version__)\n",
        "print(\"Eager mode: \", tf.executing_eagerly())\n",
        "print(\"Hub version: \", hub.__version__)\n",
        "print(\"GPU is\", \"available\" if tf.test.is_gpu_available() else \"NOT AVAILABLE\")"
      ],
      "execution_count": 18,
      "outputs": [
        {
          "output_type": "stream",
          "text": [
            "Version:  2.2.0-rc4\n",
            "Eager mode:  True\n",
            "Hub version:  0.8.0\n",
            "GPU is available\n"
          ],
          "name": "stdout"
        }
      ]
    },
    {
      "cell_type": "code",
      "metadata": {
        "id": "lqmx8kj8jm30",
        "colab_type": "code",
        "colab": {}
      },
      "source": [
        "import tensorflow_datasets as tfds\n",
        "tfds.disable_progress_bar()"
      ],
      "execution_count": 0,
      "outputs": []
    },
    {
      "cell_type": "code",
      "metadata": {
        "id": "s_DBLor2j4Lo",
        "colab_type": "code",
        "colab": {}
      },
      "source": [
        "splits = tfds.Split.ALL.subsplit(weighted=(80, 20))\n",
        "\n",
        "\n",
        "\n",
        "\n",
        "\n",
        "#splits, info = tfds.load('cars196', with_info=True, as_supervised=True,  split=['train[:30%]', 'test[:10%]'])\n",
        "splits, info = tfds.load('cars196', with_info=True, as_supervised=True,  split=['train', 'test'])\n",
        "\n",
        "(train_examples, test_examples) = splits\n",
        "\n",
        "num_examples = info.splits['train'].num_examples\n",
        "num_classes = info.features['label'].num_classes\n",
        "\n"
      ],
      "execution_count": 0,
      "outputs": []
    },
    {
      "cell_type": "code",
      "metadata": {
        "id": "BOSM4XfWlCIA",
        "colab_type": "code",
        "outputId": "3d6d7979-faff-46e8-c52e-29ebd10ab828",
        "colab": {
          "base_uri": "https://localhost:8080/",
          "height": 479
        }
      },
      "source": [
        "print(info)"
      ],
      "execution_count": 21,
      "outputs": [
        {
          "output_type": "stream",
          "text": [
            "tfds.core.DatasetInfo(\n",
            "    name='cars196',\n",
            "    version=2.0.0,\n",
            "    description='The Cars dataset contains 16,185 images of 196 classes of cars. The data is split into 8,144 training images and 8,041 testing images, where each class has been split roughly in a 50-50 split. Classes are typically at the level of Make, Model, Year, e.g. 2012 Tesla Model S or 2012 BMW M3 coupe.',\n",
            "    homepage='https://ai.stanford.edu/~jkrause/cars/car_dataset.html',\n",
            "    features=FeaturesDict({\n",
            "        'bbox': BBoxFeature(shape=(4,), dtype=tf.float32),\n",
            "        'image': Image(shape=(None, None, 3), dtype=tf.uint8),\n",
            "        'label': ClassLabel(shape=(), dtype=tf.int64, num_classes=196),\n",
            "    }),\n",
            "    total_num_examples=16185,\n",
            "    splits={\n",
            "        'test': 8041,\n",
            "        'train': 8144,\n",
            "    },\n",
            "    supervised_keys=('image', 'label'),\n",
            "    citation=\"\"\"@inproceedings{KrauseStarkDengFei-Fei_3DRR2013,\n",
            "      title = {3D Object Representations for Fine-Grained Categorization},\n",
            "      booktitle = {4th International IEEE Workshop on  3D Representation and Recognition (3dRR-13)},\n",
            "      year = {2013},\n",
            "      address = {Sydney, Australia},\n",
            "      author = {Jonathan Krause and Michael Stark and Jia Deng and Li Fei-Fei}\n",
            "      }\"\"\",\n",
            "    redistribution_info=,\n",
            ")\n",
            "\n"
          ],
          "name": "stdout"
        }
      ]
    },
    {
      "cell_type": "code",
      "metadata": {
        "id": "PFBPNSVkmqhn",
        "colab_type": "code",
        "colab": {}
      },
      "source": [
        "IMAGE_SIZE = 224\n",
        "def format_image(image, label):\n",
        "  image = tf.image.resize(image, (IMAGE_SIZE,IMAGE_SIZE)) / 255.0\n",
        "  return  image, label\n",
        "def convert(image, label):\n",
        "  image = tf.image.convert_image_dtype(image, tf.float32) # Cast and normalize the image to [0,1]\n",
        "  return image, label\n",
        "def augment(image,label):\n",
        "  image,label = convert(image, label)\n",
        "  image = tf.image.convert_image_dtype(image, tf.float32) # Cast and normalize the image to [0,1]\n",
        "  image - tf.image.resize(image, (IMAGE_SIZE,IMAGE_SIZE))\n",
        "  image = tf.image.resize_with_crop_or_pad(image, 250, 250) # Add 6 pixels of padding\n",
        "  image = tf.image.random_crop(image, size=[IMAGE_SIZE, IMAGE_SIZE, 3]) # Random crop back to 28x28\n",
        "  image = tf.image.random_brightness(image, max_delta=0.5) # Random brightness\n",
        "\n",
        "  return image,label\n"
      ],
      "execution_count": 0,
      "outputs": []
    },
    {
      "cell_type": "code",
      "metadata": {
        "id": "dtuPUuvBmz1d",
        "colab_type": "code",
        "colab": {}
      },
      "source": [
        "BATCH_SIZE =  250#@param {type:\"integer\"}"
      ],
      "execution_count": 0,
      "outputs": []
    },
    {
      "cell_type": "code",
      "metadata": {
        "id": "skq4GEyqm2lH",
        "colab_type": "code",
        "colab": {}
      },
      "source": [
        "train_batches = train_examples.shuffle(num_examples // 4).map(augment, num_parallel_calls=AUTOTUNE).batch(BATCH_SIZE).prefetch(AUTOTUNE).repeat()\n",
        "validation_batches = test_examples.map(format_image).batch(BATCH_SIZE).prefetch(1)\n",
        "#test_batches = test_examples.batch(1).map(format_image)"
      ],
      "execution_count": 0,
      "outputs": []
    },
    {
      "cell_type": "code",
      "metadata": {
        "id": "sBtf6LwHq2uj",
        "colab_type": "code",
        "colab": {}
      },
      "source": [
        ""
      ],
      "execution_count": 0,
      "outputs": []
    },
    {
      "cell_type": "code",
      "metadata": {
        "id": "JHTtICXtoyCU",
        "colab_type": "code",
        "outputId": "a40210b4-2d33-414d-afcd-0d4bd2cdd338",
        "colab": {
          "base_uri": "https://localhost:8080/",
          "height": 34
        }
      },
      "source": [
        "for image_batch, label_batch in train_batches.take(1):\n",
        "  pass\n",
        "\n",
        "image_batch.shape"
      ],
      "execution_count": 25,
      "outputs": [
        {
          "output_type": "execute_result",
          "data": {
            "text/plain": [
              "TensorShape([1500, 224, 224, 3])"
            ]
          },
          "metadata": {
            "tags": []
          },
          "execution_count": 25
        }
      ]
    },
    {
      "cell_type": "code",
      "metadata": {
        "id": "GwP6-zv_LlxB",
        "colab_type": "code",
        "colab": {}
      },
      "source": [
        "from keras.layers import Conv2D, MaxPooling2D\n",
        "from keras.layers import Activation, Dropout, Flatten, Dense"
      ],
      "execution_count": 0,
      "outputs": []
    },
    {
      "cell_type": "code",
      "metadata": {
        "id": "qwvm9sAzPhhO",
        "colab_type": "code",
        "outputId": "092edbdb-81cd-48b2-fe54-6183cc1c8942",
        "colab": {
          "base_uri": "https://localhost:8080/",
          "height": 289
        }
      },
      "source": [
        "URL = \"https://tfhub.dev/google/imagenet/resnet_v2_152/feature_vector/4\"\n",
        "feature_extractor = hub.KerasLayer(URL,\n",
        "                                   input_shape=(IMAGE_SIZE, IMAGE_SIZE, 3))\n",
        "\n",
        "feature_extractor.trainable = False\n",
        "\n",
        "model = tf.keras.Sequential([\n",
        "  feature_extractor,\n",
        "  #tf.keras.layers.Dense(Flatten()),  # this converts our 3D feature maps to 1D feature vectors\n",
        "  tf.keras.layers.Dense(1000,activation='relu'),\n",
        "  tf.keras.layers.Dense(512,activation='relu') ,\n",
        "  tf.keras.layers.Dense(196, activation='softmax')\n",
        "])\n",
        "\n",
        "model.summary()\n",
        "\n",
        "model.compile(loss = 'sparse_categorical_crossentropy', optimizer='rmsprop', metrics=['accuracy'])\n"
      ],
      "execution_count": 27,
      "outputs": [
        {
          "output_type": "stream",
          "text": [
            "Model: \"sequential_2\"\n",
            "_________________________________________________________________\n",
            "Layer (type)                 Output Shape              Param #   \n",
            "=================================================================\n",
            "keras_layer_2 (KerasLayer)   (None, 2048)              58331648  \n",
            "_________________________________________________________________\n",
            "dense_2 (Dense)              (None, 1000)              2049000   \n",
            "_________________________________________________________________\n",
            "dense_3 (Dense)              (None, 512)               512512    \n",
            "_________________________________________________________________\n",
            "dense_4 (Dense)              (None, 196)               100548    \n",
            "=================================================================\n",
            "Total params: 60,993,708\n",
            "Trainable params: 2,662,060\n",
            "Non-trainable params: 58,331,648\n",
            "_________________________________________________________________\n"
          ],
          "name": "stdout"
        }
      ]
    },
    {
      "cell_type": "code",
      "metadata": {
        "id": "d-uF0iKAo7eX",
        "colab_type": "code",
        "outputId": "7a2e55ec-4f9c-48ce-e885-466460dfa999",
        "colab": {
          "base_uri": "https://localhost:8080/",
          "height": 561
        }
      },
      "source": [
        "model = tf.keras.models.Sequential([\n",
        "    # Note the input shape is the desired size of the image 150x150 with 3 bytes color\n",
        "    # This is the first convolution\n",
        "    tf.keras.layers.Conv2D(64, (3,3), activation='relu', input_shape=(300,300, 3)),\n",
        "    tf.keras.layers.MaxPooling2D(2, 2),\n",
        "    # The second convolution\n",
        "    tf.keras.layers.Conv2D(64, (3,3), activation='relu'),\n",
        "    tf.keras.layers.MaxPooling2D(2,2),\n",
        "    # The third convolution\n",
        "    tf.keras.layers.Conv2D(128, (3,3), activation='relu'),\n",
        "    tf.keras.layers.MaxPooling2D(2,2),\n",
        "    # The fourth convolution\n",
        "    tf.keras.layers.Conv2D(128, (3,3), activation='relu'),\n",
        "    tf.keras.layers.MaxPooling2D(2,2),\n",
        "    # Flatten the results to feed into a DNN\n",
        "    tf.keras.layers.Flatten(),\n",
        "    tf.keras.layers.Dropout(0.5),\n",
        "    # 512 neuron hidden layer\n",
        "    tf.keras.layers.Dense(512, activation='relu'),\n",
        "    tf.keras.layers.Dense(3, activation='softmax')\n",
        "])\n",
        "\n",
        "\n",
        "model.summary()\n",
        "\n",
        "model.compile(loss = 'sparse_categorical_crossentropy', optimizer='rmsprop', metrics=['accuracy'])\n",
        "\n"
      ],
      "execution_count": 0,
      "outputs": [
        {
          "output_type": "stream",
          "text": [
            "Model: \"sequential_2\"\n",
            "_________________________________________________________________\n",
            "Layer (type)                 Output Shape              Param #   \n",
            "=================================================================\n",
            "conv2d_8 (Conv2D)            (None, 298, 298, 64)      1792      \n",
            "_________________________________________________________________\n",
            "max_pooling2d_8 (MaxPooling2 (None, 149, 149, 64)      0         \n",
            "_________________________________________________________________\n",
            "conv2d_9 (Conv2D)            (None, 147, 147, 64)      36928     \n",
            "_________________________________________________________________\n",
            "max_pooling2d_9 (MaxPooling2 (None, 73, 73, 64)        0         \n",
            "_________________________________________________________________\n",
            "conv2d_10 (Conv2D)           (None, 71, 71, 128)       73856     \n",
            "_________________________________________________________________\n",
            "max_pooling2d_10 (MaxPooling (None, 35, 35, 128)       0         \n",
            "_________________________________________________________________\n",
            "conv2d_11 (Conv2D)           (None, 33, 33, 128)       147584    \n",
            "_________________________________________________________________\n",
            "max_pooling2d_11 (MaxPooling (None, 16, 16, 128)       0         \n",
            "_________________________________________________________________\n",
            "flatten_2 (Flatten)          (None, 32768)             0         \n",
            "_________________________________________________________________\n",
            "dropout_2 (Dropout)          (None, 32768)             0         \n",
            "_________________________________________________________________\n",
            "dense_4 (Dense)              (None, 512)               16777728  \n",
            "_________________________________________________________________\n",
            "dense_5 (Dense)              (None, 3)                 1539      \n",
            "=================================================================\n",
            "Total params: 17,039,427\n",
            "Trainable params: 17,039,427\n",
            "Non-trainable params: 0\n",
            "_________________________________________________________________\n"
          ],
          "name": "stdout"
        }
      ]
    },
    {
      "cell_type": "code",
      "metadata": {
        "id": "NkALvrTvrL3H",
        "colab_type": "code",
        "outputId": "802ec919-77f3-4ba7-eb60-9f625289f0bd",
        "colab": {
          "base_uri": "https://localhost:8080/",
          "height": 1000
        }
      },
      "source": [
        "history = model.fit(train_batches, epochs=25, steps_per_epoch=10, validation_data = validation_batches,  validation_steps=3)\n",
        "\n",
        "model.save(\"cars196.h5\")"
      ],
      "execution_count": 28,
      "outputs": [
        {
          "output_type": "stream",
          "text": [
            "Epoch 1/150\n",
            "10/10 [==============================] - 71s 7s/step - loss: 5.1917 - accuracy: 0.0213 - val_loss: 4.7719 - val_accuracy: 0.0447\n",
            "Epoch 2/150\n",
            "10/10 [==============================] - 70s 7s/step - loss: 4.4899 - accuracy: 0.0724 - val_loss: 4.5771 - val_accuracy: 0.0678\n",
            "Epoch 3/150\n",
            "10/10 [==============================] - 62s 6s/step - loss: 4.0776 - accuracy: 0.1222 - val_loss: 4.4420 - val_accuracy: 0.0798\n",
            "Epoch 4/150\n",
            "10/10 [==============================] - 64s 6s/step - loss: 3.8252 - accuracy: 0.1575 - val_loss: 4.0435 - val_accuracy: 0.1298\n",
            "Epoch 5/150\n",
            "10/10 [==============================] - 78s 8s/step - loss: 3.5647 - accuracy: 0.2006 - val_loss: 4.0095 - val_accuracy: 0.1347\n",
            "Epoch 6/150\n",
            "10/10 [==============================] - 61s 6s/step - loss: 3.3688 - accuracy: 0.2373 - val_loss: 4.4626 - val_accuracy: 0.1151\n",
            "Epoch 7/150\n",
            "10/10 [==============================] - 66s 7s/step - loss: 3.2193 - accuracy: 0.2625 - val_loss: 3.9894 - val_accuracy: 0.1680\n",
            "Epoch 8/150\n",
            "10/10 [==============================] - 73s 7s/step - loss: 3.0690 - accuracy: 0.2955 - val_loss: 4.3127 - val_accuracy: 0.1471\n",
            "Epoch 9/150\n",
            "10/10 [==============================] - 61s 6s/step - loss: 2.9210 - accuracy: 0.3255 - val_loss: 3.9487 - val_accuracy: 0.1673\n",
            "Epoch 10/150\n",
            "10/10 [==============================] - 76s 8s/step - loss: 2.8161 - accuracy: 0.3427 - val_loss: 4.0716 - val_accuracy: 0.1822\n",
            "Epoch 11/150\n",
            "10/10 [==============================] - 73s 7s/step - loss: 2.7566 - accuracy: 0.3569 - val_loss: 4.1164 - val_accuracy: 0.1487\n",
            "Epoch 12/150\n",
            "10/10 [==============================] - 76s 8s/step - loss: 2.6368 - accuracy: 0.3875 - val_loss: 4.2375 - val_accuracy: 0.1718\n",
            "Epoch 13/150\n",
            "10/10 [==============================] - 64s 6s/step - loss: 2.5178 - accuracy: 0.3994 - val_loss: 3.9392 - val_accuracy: 0.1796\n",
            "Epoch 14/150\n",
            "10/10 [==============================] - 73s 7s/step - loss: 2.3747 - accuracy: 0.4404 - val_loss: 3.9821 - val_accuracy: 0.1956\n",
            "Epoch 15/150\n",
            "10/10 [==============================] - 64s 6s/step - loss: 2.2639 - accuracy: 0.4618 - val_loss: 3.9018 - val_accuracy: 0.2002\n",
            "Epoch 16/150\n",
            "10/10 [==============================] - 65s 7s/step - loss: 2.2791 - accuracy: 0.4598 - val_loss: 4.0458 - val_accuracy: 0.2073\n",
            "Epoch 17/150\n",
            "10/10 [==============================] - 72s 7s/step - loss: 2.1566 - accuracy: 0.4834 - val_loss: 4.2274 - val_accuracy: 0.1907\n",
            "Epoch 18/150\n",
            "10/10 [==============================] - 61s 6s/step - loss: 2.0592 - accuracy: 0.5044 - val_loss: 4.1827 - val_accuracy: 0.1818\n",
            "Epoch 19/150\n",
            "10/10 [==============================] - 74s 7s/step - loss: 2.0104 - accuracy: 0.5199 - val_loss: 3.9812 - val_accuracy: 0.2238\n",
            "Epoch 20/150\n",
            "10/10 [==============================] - 84s 8s/step - loss: 1.9416 - accuracy: 0.5330 - val_loss: 4.1733 - val_accuracy: 0.2053\n",
            "Epoch 21/150\n",
            "10/10 [==============================] - 62s 6s/step - loss: 1.8939 - accuracy: 0.5456 - val_loss: 4.1991 - val_accuracy: 0.2036\n",
            "Epoch 22/150\n",
            "10/10 [==============================] - 73s 7s/step - loss: 1.7388 - accuracy: 0.5771 - val_loss: 3.7753 - val_accuracy: 0.2393\n",
            "Epoch 23/150\n",
            "10/10 [==============================] - 77s 8s/step - loss: 1.7535 - accuracy: 0.5784 - val_loss: 4.5419 - val_accuracy: 0.1869\n",
            "Epoch 24/150\n",
            "10/10 [==============================] - 60s 6s/step - loss: 1.7112 - accuracy: 0.5847 - val_loss: 4.3647 - val_accuracy: 0.2056\n",
            "Epoch 25/150\n",
            "10/10 [==============================] - 65s 7s/step - loss: 1.6606 - accuracy: 0.5972 - val_loss: 4.2923 - val_accuracy: 0.2189\n",
            "Epoch 26/150\n",
            "10/10 [==============================] - 73s 7s/step - loss: 1.6395 - accuracy: 0.6009 - val_loss: 3.9815 - val_accuracy: 0.2307\n",
            "Epoch 27/150\n",
            "10/10 [==============================] - 61s 6s/step - loss: 1.4601 - accuracy: 0.6475 - val_loss: 4.7504 - val_accuracy: 0.1956\n",
            "Epoch 28/150\n",
            "10/10 [==============================] - 67s 7s/step - loss: 1.5390 - accuracy: 0.6288 - val_loss: 3.8901 - val_accuracy: 0.2353\n",
            "Epoch 29/150\n",
            "10/10 [==============================] - 71s 7s/step - loss: 1.4685 - accuracy: 0.6467 - val_loss: 4.4299 - val_accuracy: 0.2267\n",
            "Epoch 30/150\n",
            "10/10 [==============================] - 61s 6s/step - loss: 1.3860 - accuracy: 0.6689 - val_loss: 4.7489 - val_accuracy: 0.2118\n",
            "Epoch 31/150\n",
            "10/10 [==============================] - 63s 6s/step - loss: 1.4145 - accuracy: 0.6552 - val_loss: 4.1519 - val_accuracy: 0.2316\n",
            "Epoch 32/150\n",
            "10/10 [==============================] - 77s 8s/step - loss: 1.3401 - accuracy: 0.6741 - val_loss: 4.1305 - val_accuracy: 0.2269\n",
            "Epoch 33/150\n",
            "10/10 [==============================] - 61s 6s/step - loss: 1.2407 - accuracy: 0.7050 - val_loss: 4.6290 - val_accuracy: 0.2244\n",
            "Epoch 34/150\n",
            "10/10 [==============================] - 66s 7s/step - loss: 1.2885 - accuracy: 0.6929 - val_loss: 4.1231 - val_accuracy: 0.2438\n",
            "Epoch 35/150\n",
            "10/10 [==============================] - 73s 7s/step - loss: 1.2462 - accuracy: 0.7009 - val_loss: 4.2716 - val_accuracy: 0.2347\n",
            "Epoch 36/150\n",
            "10/10 [==============================] - 61s 6s/step - loss: 1.1867 - accuracy: 0.7153 - val_loss: 4.3356 - val_accuracy: 0.2511\n",
            "Epoch 37/150\n",
            "10/10 [==============================] - 67s 7s/step - loss: 1.1847 - accuracy: 0.7120 - val_loss: 4.1069 - val_accuracy: 0.2391\n",
            "Epoch 38/150\n",
            "10/10 [==============================] - 70s 7s/step - loss: 1.1366 - accuracy: 0.7292 - val_loss: 5.0529 - val_accuracy: 0.2147\n",
            "Epoch 39/150\n",
            "10/10 [==============================] - 61s 6s/step - loss: 1.1104 - accuracy: 0.7295 - val_loss: 4.5757 - val_accuracy: 0.2422\n",
            "Epoch 40/150\n",
            "10/10 [==============================] - 64s 6s/step - loss: 1.1128 - accuracy: 0.7321 - val_loss: 4.2590 - val_accuracy: 0.2473\n",
            "Epoch 41/150\n",
            "10/10 [==============================] - 85s 9s/step - loss: 1.0018 - accuracy: 0.7565 - val_loss: 4.8562 - val_accuracy: 0.2273\n",
            "Epoch 42/150\n",
            "10/10 [==============================] - 61s 6s/step - loss: 1.0346 - accuracy: 0.7516 - val_loss: 4.9769 - val_accuracy: 0.2360\n",
            "Epoch 43/150\n",
            "10/10 [==============================] - 75s 8s/step - loss: 1.0121 - accuracy: 0.7574 - val_loss: 4.1707 - val_accuracy: 0.2631\n",
            "Epoch 44/150\n",
            "10/10 [==============================] - 87s 9s/step - loss: 0.9393 - accuracy: 0.7748 - val_loss: 4.6716 - val_accuracy: 0.2338\n",
            "Epoch 45/150\n",
            "10/10 [==============================] - 62s 6s/step - loss: 0.9366 - accuracy: 0.7725 - val_loss: 4.8758 - val_accuracy: 0.2398\n",
            "Epoch 46/150\n",
            "10/10 [==============================] - 65s 6s/step - loss: 0.9749 - accuracy: 0.7612 - val_loss: 4.5358 - val_accuracy: 0.2380\n",
            "Epoch 47/150\n",
            "10/10 [==============================] - 78s 8s/step - loss: 0.9299 - accuracy: 0.7766 - val_loss: 5.0044 - val_accuracy: 0.2220\n",
            "Epoch 48/150\n",
            "10/10 [==============================] - 61s 6s/step - loss: 0.8829 - accuracy: 0.7860 - val_loss: 4.6167 - val_accuracy: 0.2522\n",
            "Epoch 49/150\n",
            "10/10 [==============================] - 67s 7s/step - loss: 0.9634 - accuracy: 0.7695 - val_loss: 4.4015 - val_accuracy: 0.2591\n",
            "Epoch 50/150\n",
            "10/10 [==============================] - 75s 8s/step - loss: 0.7802 - accuracy: 0.8151 - val_loss: 5.0267 - val_accuracy: 0.2242\n",
            "Epoch 51/150\n",
            "10/10 [==============================] - 62s 6s/step - loss: 0.8403 - accuracy: 0.7964 - val_loss: 5.0401 - val_accuracy: 0.2384\n",
            "Epoch 52/150\n",
            "10/10 [==============================] - 78s 8s/step - loss: 0.8793 - accuracy: 0.7854 - val_loss: 4.9656 - val_accuracy: 0.2418\n",
            "Epoch 53/150\n",
            "10/10 [==============================] - 74s 7s/step - loss: 0.8149 - accuracy: 0.8052 - val_loss: 5.1722 - val_accuracy: 0.2336\n",
            "Epoch 54/150\n",
            "10/10 [==============================] - 61s 6s/step - loss: 0.8438 - accuracy: 0.7965 - val_loss: 5.2785 - val_accuracy: 0.2298\n",
            "Epoch 55/150\n",
            "10/10 [==============================] - 76s 8s/step - loss: 0.7563 - accuracy: 0.8175 - val_loss: 4.9680 - val_accuracy: 0.2507\n",
            "Epoch 56/150\n",
            "10/10 [==============================] - 75s 8s/step - loss: 0.7853 - accuracy: 0.8125 - val_loss: 4.9957 - val_accuracy: 0.2320\n",
            "Epoch 57/150\n",
            "10/10 [==============================] - 75s 8s/step - loss: 0.7389 - accuracy: 0.8236 - val_loss: 4.7102 - val_accuracy: 0.2631\n",
            "Epoch 58/150\n",
            "10/10 [==============================] - 63s 6s/step - loss: 0.7856 - accuracy: 0.8095 - val_loss: 4.8461 - val_accuracy: 0.2509\n",
            "Epoch 59/150\n",
            "10/10 [==============================] - 73s 7s/step - loss: 0.7204 - accuracy: 0.8291 - val_loss: 4.6812 - val_accuracy: 0.2711\n",
            "Epoch 60/150\n",
            "10/10 [==============================] - 65s 7s/step - loss: 0.7013 - accuracy: 0.8280 - val_loss: 5.0209 - val_accuracy: 0.2353\n",
            "Epoch 61/150\n",
            "10/10 [==============================] - 65s 6s/step - loss: 0.7464 - accuracy: 0.8238 - val_loss: 4.7550 - val_accuracy: 0.2618\n",
            "Epoch 62/150\n",
            "10/10 [==============================] - 73s 7s/step - loss: 0.7302 - accuracy: 0.8275 - val_loss: 4.9032 - val_accuracy: 0.2538\n",
            "Epoch 63/150\n",
            "10/10 [==============================] - 62s 6s/step - loss: 0.6598 - accuracy: 0.8412 - val_loss: 5.3403 - val_accuracy: 0.2442\n",
            "Epoch 64/150\n",
            "10/10 [==============================] - 77s 8s/step - loss: 0.6815 - accuracy: 0.8329 - val_loss: 5.3100 - val_accuracy: 0.2451\n",
            "Epoch 65/150\n",
            " 5/10 [==============>...............] - ETA: 32s - loss: 0.7551 - accuracy: 0.8203"
          ],
          "name": "stdout"
        },
        {
          "output_type": "error",
          "ename": "KeyboardInterrupt",
          "evalue": "ignored",
          "traceback": [
            "\u001b[0;31m---------------------------------------------------------------------------\u001b[0m",
            "\u001b[0;31mKeyboardInterrupt\u001b[0m                         Traceback (most recent call last)",
            "\u001b[0;32m<ipython-input-28-623ab9d8865d>\u001b[0m in \u001b[0;36m<module>\u001b[0;34m()\u001b[0m\n\u001b[0;32m----> 1\u001b[0;31m \u001b[0mhistory\u001b[0m \u001b[0;34m=\u001b[0m \u001b[0mmodel\u001b[0m\u001b[0;34m.\u001b[0m\u001b[0mfit\u001b[0m\u001b[0;34m(\u001b[0m\u001b[0mtrain_batches\u001b[0m\u001b[0;34m,\u001b[0m \u001b[0mepochs\u001b[0m\u001b[0;34m=\u001b[0m\u001b[0;36m150\u001b[0m\u001b[0;34m,\u001b[0m \u001b[0msteps_per_epoch\u001b[0m\u001b[0;34m=\u001b[0m\u001b[0;36m10\u001b[0m\u001b[0;34m,\u001b[0m \u001b[0mvalidation_data\u001b[0m \u001b[0;34m=\u001b[0m \u001b[0mvalidation_batches\u001b[0m\u001b[0;34m,\u001b[0m  \u001b[0mvalidation_steps\u001b[0m\u001b[0;34m=\u001b[0m\u001b[0;36m3\u001b[0m\u001b[0;34m)\u001b[0m\u001b[0;34m\u001b[0m\u001b[0;34m\u001b[0m\u001b[0m\n\u001b[0m\u001b[1;32m      2\u001b[0m \u001b[0;34m\u001b[0m\u001b[0m\n\u001b[1;32m      3\u001b[0m \u001b[0mmodel\u001b[0m\u001b[0;34m.\u001b[0m\u001b[0msave\u001b[0m\u001b[0;34m(\u001b[0m\u001b[0;34m\"cars196.h5\"\u001b[0m\u001b[0;34m)\u001b[0m\u001b[0;34m\u001b[0m\u001b[0;34m\u001b[0m\u001b[0m\n",
            "\u001b[0;32m/usr/local/lib/python3.6/dist-packages/tensorflow/python/keras/engine/training.py\u001b[0m in \u001b[0;36m_method_wrapper\u001b[0;34m(self, *args, **kwargs)\u001b[0m\n\u001b[1;32m     64\u001b[0m   \u001b[0;32mdef\u001b[0m \u001b[0m_method_wrapper\u001b[0m\u001b[0;34m(\u001b[0m\u001b[0mself\u001b[0m\u001b[0;34m,\u001b[0m \u001b[0;34m*\u001b[0m\u001b[0margs\u001b[0m\u001b[0;34m,\u001b[0m \u001b[0;34m**\u001b[0m\u001b[0mkwargs\u001b[0m\u001b[0;34m)\u001b[0m\u001b[0;34m:\u001b[0m\u001b[0;34m\u001b[0m\u001b[0;34m\u001b[0m\u001b[0m\n\u001b[1;32m     65\u001b[0m     \u001b[0;32mif\u001b[0m \u001b[0;32mnot\u001b[0m \u001b[0mself\u001b[0m\u001b[0;34m.\u001b[0m\u001b[0m_in_multi_worker_mode\u001b[0m\u001b[0;34m(\u001b[0m\u001b[0;34m)\u001b[0m\u001b[0;34m:\u001b[0m  \u001b[0;31m# pylint: disable=protected-access\u001b[0m\u001b[0;34m\u001b[0m\u001b[0;34m\u001b[0m\u001b[0m\n\u001b[0;32m---> 66\u001b[0;31m       \u001b[0;32mreturn\u001b[0m \u001b[0mmethod\u001b[0m\u001b[0;34m(\u001b[0m\u001b[0mself\u001b[0m\u001b[0;34m,\u001b[0m \u001b[0;34m*\u001b[0m\u001b[0margs\u001b[0m\u001b[0;34m,\u001b[0m \u001b[0;34m**\u001b[0m\u001b[0mkwargs\u001b[0m\u001b[0;34m)\u001b[0m\u001b[0;34m\u001b[0m\u001b[0;34m\u001b[0m\u001b[0m\n\u001b[0m\u001b[1;32m     67\u001b[0m \u001b[0;34m\u001b[0m\u001b[0m\n\u001b[1;32m     68\u001b[0m     \u001b[0;31m# Running inside `run_distribute_coordinator` already.\u001b[0m\u001b[0;34m\u001b[0m\u001b[0;34m\u001b[0m\u001b[0;34m\u001b[0m\u001b[0m\n",
            "\u001b[0;32m/usr/local/lib/python3.6/dist-packages/tensorflow/python/keras/engine/training.py\u001b[0m in \u001b[0;36mfit\u001b[0;34m(self, x, y, batch_size, epochs, verbose, callbacks, validation_split, validation_data, shuffle, class_weight, sample_weight, initial_epoch, steps_per_epoch, validation_steps, validation_batch_size, validation_freq, max_queue_size, workers, use_multiprocessing)\u001b[0m\n\u001b[1;32m    846\u001b[0m                 batch_size=batch_size):\n\u001b[1;32m    847\u001b[0m               \u001b[0mcallbacks\u001b[0m\u001b[0;34m.\u001b[0m\u001b[0mon_train_batch_begin\u001b[0m\u001b[0;34m(\u001b[0m\u001b[0mstep\u001b[0m\u001b[0;34m)\u001b[0m\u001b[0;34m\u001b[0m\u001b[0;34m\u001b[0m\u001b[0m\n\u001b[0;32m--> 848\u001b[0;31m               \u001b[0mtmp_logs\u001b[0m \u001b[0;34m=\u001b[0m \u001b[0mtrain_function\u001b[0m\u001b[0;34m(\u001b[0m\u001b[0miterator\u001b[0m\u001b[0;34m)\u001b[0m\u001b[0;34m\u001b[0m\u001b[0;34m\u001b[0m\u001b[0m\n\u001b[0m\u001b[1;32m    849\u001b[0m               \u001b[0;31m# Catch OutOfRangeError for Datasets of unknown size.\u001b[0m\u001b[0;34m\u001b[0m\u001b[0;34m\u001b[0m\u001b[0;34m\u001b[0m\u001b[0m\n\u001b[1;32m    850\u001b[0m               \u001b[0;31m# This blocks until the batch has finished executing.\u001b[0m\u001b[0;34m\u001b[0m\u001b[0;34m\u001b[0m\u001b[0;34m\u001b[0m\u001b[0m\n",
            "\u001b[0;32m/usr/local/lib/python3.6/dist-packages/tensorflow/python/eager/def_function.py\u001b[0m in \u001b[0;36m__call__\u001b[0;34m(self, *args, **kwds)\u001b[0m\n\u001b[1;32m    578\u001b[0m         \u001b[0mxla_context\u001b[0m\u001b[0;34m.\u001b[0m\u001b[0mExit\u001b[0m\u001b[0;34m(\u001b[0m\u001b[0;34m)\u001b[0m\u001b[0;34m\u001b[0m\u001b[0;34m\u001b[0m\u001b[0m\n\u001b[1;32m    579\u001b[0m     \u001b[0;32melse\u001b[0m\u001b[0;34m:\u001b[0m\u001b[0;34m\u001b[0m\u001b[0;34m\u001b[0m\u001b[0m\n\u001b[0;32m--> 580\u001b[0;31m       \u001b[0mresult\u001b[0m \u001b[0;34m=\u001b[0m \u001b[0mself\u001b[0m\u001b[0;34m.\u001b[0m\u001b[0m_call\u001b[0m\u001b[0;34m(\u001b[0m\u001b[0;34m*\u001b[0m\u001b[0margs\u001b[0m\u001b[0;34m,\u001b[0m \u001b[0;34m**\u001b[0m\u001b[0mkwds\u001b[0m\u001b[0;34m)\u001b[0m\u001b[0;34m\u001b[0m\u001b[0;34m\u001b[0m\u001b[0m\n\u001b[0m\u001b[1;32m    581\u001b[0m \u001b[0;34m\u001b[0m\u001b[0m\n\u001b[1;32m    582\u001b[0m     \u001b[0;32mif\u001b[0m \u001b[0mtracing_count\u001b[0m \u001b[0;34m==\u001b[0m \u001b[0mself\u001b[0m\u001b[0;34m.\u001b[0m\u001b[0m_get_tracing_count\u001b[0m\u001b[0;34m(\u001b[0m\u001b[0;34m)\u001b[0m\u001b[0;34m:\u001b[0m\u001b[0;34m\u001b[0m\u001b[0;34m\u001b[0m\u001b[0m\n",
            "\u001b[0;32m/usr/local/lib/python3.6/dist-packages/tensorflow/python/eager/def_function.py\u001b[0m in \u001b[0;36m_call\u001b[0;34m(self, *args, **kwds)\u001b[0m\n\u001b[1;32m    609\u001b[0m       \u001b[0;31m# In this case we have created variables on the first call, so we run the\u001b[0m\u001b[0;34m\u001b[0m\u001b[0;34m\u001b[0m\u001b[0;34m\u001b[0m\u001b[0m\n\u001b[1;32m    610\u001b[0m       \u001b[0;31m# defunned version which is guaranteed to never create variables.\u001b[0m\u001b[0;34m\u001b[0m\u001b[0;34m\u001b[0m\u001b[0;34m\u001b[0m\u001b[0m\n\u001b[0;32m--> 611\u001b[0;31m       \u001b[0;32mreturn\u001b[0m \u001b[0mself\u001b[0m\u001b[0;34m.\u001b[0m\u001b[0m_stateless_fn\u001b[0m\u001b[0;34m(\u001b[0m\u001b[0;34m*\u001b[0m\u001b[0margs\u001b[0m\u001b[0;34m,\u001b[0m \u001b[0;34m**\u001b[0m\u001b[0mkwds\u001b[0m\u001b[0;34m)\u001b[0m  \u001b[0;31m# pylint: disable=not-callable\u001b[0m\u001b[0;34m\u001b[0m\u001b[0;34m\u001b[0m\u001b[0m\n\u001b[0m\u001b[1;32m    612\u001b[0m     \u001b[0;32melif\u001b[0m \u001b[0mself\u001b[0m\u001b[0;34m.\u001b[0m\u001b[0m_stateful_fn\u001b[0m \u001b[0;32mis\u001b[0m \u001b[0;32mnot\u001b[0m \u001b[0;32mNone\u001b[0m\u001b[0;34m:\u001b[0m\u001b[0;34m\u001b[0m\u001b[0;34m\u001b[0m\u001b[0m\n\u001b[1;32m    613\u001b[0m       \u001b[0;31m# Release the lock early so that multiple threads can perform the call\u001b[0m\u001b[0;34m\u001b[0m\u001b[0;34m\u001b[0m\u001b[0;34m\u001b[0m\u001b[0m\n",
            "\u001b[0;32m/usr/local/lib/python3.6/dist-packages/tensorflow/python/eager/function.py\u001b[0m in \u001b[0;36m__call__\u001b[0;34m(self, *args, **kwargs)\u001b[0m\n\u001b[1;32m   2418\u001b[0m     \u001b[0;32mwith\u001b[0m \u001b[0mself\u001b[0m\u001b[0;34m.\u001b[0m\u001b[0m_lock\u001b[0m\u001b[0;34m:\u001b[0m\u001b[0;34m\u001b[0m\u001b[0;34m\u001b[0m\u001b[0m\n\u001b[1;32m   2419\u001b[0m       \u001b[0mgraph_function\u001b[0m\u001b[0;34m,\u001b[0m \u001b[0margs\u001b[0m\u001b[0;34m,\u001b[0m \u001b[0mkwargs\u001b[0m \u001b[0;34m=\u001b[0m \u001b[0mself\u001b[0m\u001b[0;34m.\u001b[0m\u001b[0m_maybe_define_function\u001b[0m\u001b[0;34m(\u001b[0m\u001b[0margs\u001b[0m\u001b[0;34m,\u001b[0m \u001b[0mkwargs\u001b[0m\u001b[0;34m)\u001b[0m\u001b[0;34m\u001b[0m\u001b[0;34m\u001b[0m\u001b[0m\n\u001b[0;32m-> 2420\u001b[0;31m     \u001b[0;32mreturn\u001b[0m \u001b[0mgraph_function\u001b[0m\u001b[0;34m.\u001b[0m\u001b[0m_filtered_call\u001b[0m\u001b[0;34m(\u001b[0m\u001b[0margs\u001b[0m\u001b[0;34m,\u001b[0m \u001b[0mkwargs\u001b[0m\u001b[0;34m)\u001b[0m  \u001b[0;31m# pylint: disable=protected-access\u001b[0m\u001b[0;34m\u001b[0m\u001b[0;34m\u001b[0m\u001b[0m\n\u001b[0m\u001b[1;32m   2421\u001b[0m \u001b[0;34m\u001b[0m\u001b[0m\n\u001b[1;32m   2422\u001b[0m   \u001b[0;34m@\u001b[0m\u001b[0mproperty\u001b[0m\u001b[0;34m\u001b[0m\u001b[0;34m\u001b[0m\u001b[0m\n",
            "\u001b[0;32m/usr/local/lib/python3.6/dist-packages/tensorflow/python/eager/function.py\u001b[0m in \u001b[0;36m_filtered_call\u001b[0;34m(self, args, kwargs)\u001b[0m\n\u001b[1;32m   1663\u001b[0m          if isinstance(t, (ops.Tensor,\n\u001b[1;32m   1664\u001b[0m                            resource_variable_ops.BaseResourceVariable))),\n\u001b[0;32m-> 1665\u001b[0;31m         self.captured_inputs)\n\u001b[0m\u001b[1;32m   1666\u001b[0m \u001b[0;34m\u001b[0m\u001b[0m\n\u001b[1;32m   1667\u001b[0m   \u001b[0;32mdef\u001b[0m \u001b[0m_call_flat\u001b[0m\u001b[0;34m(\u001b[0m\u001b[0mself\u001b[0m\u001b[0;34m,\u001b[0m \u001b[0margs\u001b[0m\u001b[0;34m,\u001b[0m \u001b[0mcaptured_inputs\u001b[0m\u001b[0;34m,\u001b[0m \u001b[0mcancellation_manager\u001b[0m\u001b[0;34m=\u001b[0m\u001b[0;32mNone\u001b[0m\u001b[0;34m)\u001b[0m\u001b[0;34m:\u001b[0m\u001b[0;34m\u001b[0m\u001b[0;34m\u001b[0m\u001b[0m\n",
            "\u001b[0;32m/usr/local/lib/python3.6/dist-packages/tensorflow/python/eager/function.py\u001b[0m in \u001b[0;36m_call_flat\u001b[0;34m(self, args, captured_inputs, cancellation_manager)\u001b[0m\n\u001b[1;32m   1744\u001b[0m       \u001b[0;31m# No tape is watching; skip to running the function.\u001b[0m\u001b[0;34m\u001b[0m\u001b[0;34m\u001b[0m\u001b[0;34m\u001b[0m\u001b[0m\n\u001b[1;32m   1745\u001b[0m       return self._build_call_outputs(self._inference_function.call(\n\u001b[0;32m-> 1746\u001b[0;31m           ctx, args, cancellation_manager=cancellation_manager))\n\u001b[0m\u001b[1;32m   1747\u001b[0m     forward_backward = self._select_forward_and_backward_functions(\n\u001b[1;32m   1748\u001b[0m         \u001b[0margs\u001b[0m\u001b[0;34m,\u001b[0m\u001b[0;34m\u001b[0m\u001b[0;34m\u001b[0m\u001b[0m\n",
            "\u001b[0;32m/usr/local/lib/python3.6/dist-packages/tensorflow/python/eager/function.py\u001b[0m in \u001b[0;36mcall\u001b[0;34m(self, ctx, args, cancellation_manager)\u001b[0m\n\u001b[1;32m    596\u001b[0m               \u001b[0minputs\u001b[0m\u001b[0;34m=\u001b[0m\u001b[0margs\u001b[0m\u001b[0;34m,\u001b[0m\u001b[0;34m\u001b[0m\u001b[0;34m\u001b[0m\u001b[0m\n\u001b[1;32m    597\u001b[0m               \u001b[0mattrs\u001b[0m\u001b[0;34m=\u001b[0m\u001b[0mattrs\u001b[0m\u001b[0;34m,\u001b[0m\u001b[0;34m\u001b[0m\u001b[0;34m\u001b[0m\u001b[0m\n\u001b[0;32m--> 598\u001b[0;31m               ctx=ctx)\n\u001b[0m\u001b[1;32m    599\u001b[0m         \u001b[0;32melse\u001b[0m\u001b[0;34m:\u001b[0m\u001b[0;34m\u001b[0m\u001b[0;34m\u001b[0m\u001b[0m\n\u001b[1;32m    600\u001b[0m           outputs = execute.execute_with_cancellation(\n",
            "\u001b[0;32m/usr/local/lib/python3.6/dist-packages/tensorflow/python/eager/execute.py\u001b[0m in \u001b[0;36mquick_execute\u001b[0;34m(op_name, num_outputs, inputs, attrs, ctx, name)\u001b[0m\n\u001b[1;32m     58\u001b[0m     \u001b[0mctx\u001b[0m\u001b[0;34m.\u001b[0m\u001b[0mensure_initialized\u001b[0m\u001b[0;34m(\u001b[0m\u001b[0;34m)\u001b[0m\u001b[0;34m\u001b[0m\u001b[0;34m\u001b[0m\u001b[0m\n\u001b[1;32m     59\u001b[0m     tensors = pywrap_tfe.TFE_Py_Execute(ctx._handle, device_name, op_name,\n\u001b[0;32m---> 60\u001b[0;31m                                         inputs, attrs, num_outputs)\n\u001b[0m\u001b[1;32m     61\u001b[0m   \u001b[0;32mexcept\u001b[0m \u001b[0mcore\u001b[0m\u001b[0;34m.\u001b[0m\u001b[0m_NotOkStatusException\u001b[0m \u001b[0;32mas\u001b[0m \u001b[0me\u001b[0m\u001b[0;34m:\u001b[0m\u001b[0;34m\u001b[0m\u001b[0;34m\u001b[0m\u001b[0m\n\u001b[1;32m     62\u001b[0m     \u001b[0;32mif\u001b[0m \u001b[0mname\u001b[0m \u001b[0;32mis\u001b[0m \u001b[0;32mnot\u001b[0m \u001b[0;32mNone\u001b[0m\u001b[0;34m:\u001b[0m\u001b[0;34m\u001b[0m\u001b[0;34m\u001b[0m\u001b[0m\n",
            "\u001b[0;31mKeyboardInterrupt\u001b[0m: "
          ]
        }
      ]
    },
    {
      "cell_type": "code",
      "metadata": {
        "id": "rzPqVRJlRg1I",
        "colab_type": "code",
        "outputId": "3432a186-8372-4bfd-fd7a-9ca5bc902e15",
        "colab": {
          "base_uri": "https://localhost:8080/",
          "height": 54
        }
      },
      "source": [
        "from google.colab import drive\n",
        "drive.mount('/content/drive')\n",
        "\n",
        "model.save('/content/drive/My Drive/Machine_Learning/Models/cars196_model/cars196_High_train_acc_better_val_acc1.h5')"
      ],
      "execution_count": 0,
      "outputs": [
        {
          "output_type": "stream",
          "text": [
            "Drive already mounted at /content/drive; to attempt to forcibly remount, call drive.mount(\"/content/drive\", force_remount=True).\n"
          ],
          "name": "stdout"
        }
      ]
    },
    {
      "cell_type": "code",
      "metadata": {
        "id": "JP3LWYwkAuip",
        "colab_type": "code",
        "outputId": "3986d292-43cf-49f0-b73f-e264e46e735b",
        "colab": {
          "base_uri": "https://localhost:8080/",
          "height": 221
        }
      },
      "source": [
        "\n",
        "new_model = tf.keras.models.load_model('rpsOne.h5',custom_objects={'KerasLayer':hub.KerasLayer})\n",
        "new_model.summary()\n",
        "model = new_model"
      ],
      "execution_count": 0,
      "outputs": [
        {
          "output_type": "stream",
          "text": [
            "Model: \"sequential_1\"\n",
            "_________________________________________________________________\n",
            "Layer (type)                 Output Shape              Param #   \n",
            "=================================================================\n",
            "keras_layer_1 (KerasLayer)   (None, 1001)              60382697  \n",
            "_________________________________________________________________\n",
            "dense_1 (Dense)              (None, 196)               196392    \n",
            "=================================================================\n",
            "Total params: 60,579,089\n",
            "Trainable params: 196,392\n",
            "Non-trainable params: 60,382,697\n",
            "_________________________________________________________________\n"
          ],
          "name": "stdout"
        }
      ]
    },
    {
      "cell_type": "code",
      "metadata": {
        "id": "J4f2IIk-m-vV",
        "colab_type": "code",
        "colab": {}
      },
      "source": [
        "classes = model.predict()"
      ],
      "execution_count": 0,
      "outputs": []
    },
    {
      "cell_type": "code",
      "metadata": {
        "id": "zRXUcgom4Lxa",
        "colab_type": "code",
        "outputId": "aaaa1c9d-6348-439d-f438-500a12d80d4d",
        "colab": {
          "base_uri": "https://localhost:8080/",
          "height": 249
        }
      },
      "source": [
        "from PIL import Image\n",
        "import numpy as np\n",
        "from skimage import transform\n",
        "def load(np_image):\n",
        "   np_image = np.array(np_image).astype('float32')/255\n",
        "   np_image = transform.resize(np_image, (150,150, 3))\n",
        "   np_image = np.expand_dims(np_image, axis=0)\n",
        "   return np_image\n",
        "\n",
        "for example in train_examples:\n",
        "  image,label = example\n",
        "  print(label)\n",
        "  #print(image)\n",
        "  result = model.predict(load(image))\n",
        "  predicted_batch = tf.squeeze(result).numpy()\n",
        "  print(predicted_batch)\n",
        "  predicted_ids = np.argmax(predicted_batch, axis=-1)\n",
        "  print(predicted_ids[0])\n",
        "  predicted_class_names = _NAMES[predicted_ids[0]]\n",
        "\n",
        "  print(predicted_class_names)\n",
        "  break"
      ],
      "execution_count": 0,
      "outputs": [
        {
          "output_type": "stream",
          "text": [
            "tf.Tensor(194, shape=(), dtype=int64)\n"
          ],
          "name": "stdout"
        },
        {
          "output_type": "error",
          "ename": "AttributeError",
          "evalue": "ignored",
          "traceback": [
            "\u001b[0;31m---------------------------------------------------------------------------\u001b[0m",
            "\u001b[0;31mAttributeError\u001b[0m                            Traceback (most recent call last)",
            "\u001b[0;32m<ipython-input-10-8300348b92c6>\u001b[0m in \u001b[0;36m<module>\u001b[0;34m()\u001b[0m\n\u001b[1;32m     12\u001b[0m   \u001b[0mprint\u001b[0m\u001b[0;34m(\u001b[0m\u001b[0mlabel\u001b[0m\u001b[0;34m)\u001b[0m\u001b[0;34m\u001b[0m\u001b[0;34m\u001b[0m\u001b[0m\n\u001b[1;32m     13\u001b[0m   \u001b[0;31m#print(image)\u001b[0m\u001b[0;34m\u001b[0m\u001b[0;34m\u001b[0m\u001b[0;34m\u001b[0m\u001b[0m\n\u001b[0;32m---> 14\u001b[0;31m   \u001b[0mresult\u001b[0m \u001b[0;34m=\u001b[0m \u001b[0mmodel\u001b[0m\u001b[0;34m.\u001b[0m\u001b[0mpredict\u001b[0m\u001b[0;34m(\u001b[0m\u001b[0mload\u001b[0m\u001b[0;34m(\u001b[0m\u001b[0mimage\u001b[0m\u001b[0;34m)\u001b[0m\u001b[0;34m)\u001b[0m\u001b[0;34m\u001b[0m\u001b[0;34m\u001b[0m\u001b[0m\n\u001b[0m\u001b[1;32m     15\u001b[0m   \u001b[0mpredicted_batch\u001b[0m \u001b[0;34m=\u001b[0m \u001b[0mtf\u001b[0m\u001b[0;34m.\u001b[0m\u001b[0msqueeze\u001b[0m\u001b[0;34m(\u001b[0m\u001b[0mresult\u001b[0m\u001b[0;34m)\u001b[0m\u001b[0;34m.\u001b[0m\u001b[0mnumpy\u001b[0m\u001b[0;34m(\u001b[0m\u001b[0;34m)\u001b[0m\u001b[0;34m\u001b[0m\u001b[0;34m\u001b[0m\u001b[0m\n\u001b[1;32m     16\u001b[0m   \u001b[0mprint\u001b[0m\u001b[0;34m(\u001b[0m\u001b[0mpredicted_batch\u001b[0m\u001b[0;34m)\u001b[0m\u001b[0;34m\u001b[0m\u001b[0;34m\u001b[0m\u001b[0m\n",
            "\u001b[0;31mAttributeError\u001b[0m: 'str' object has no attribute 'predict'"
          ]
        }
      ]
    },
    {
      "cell_type": "code",
      "metadata": {
        "id": "WYYSFPqq6Jqk",
        "colab_type": "code",
        "colab": {}
      },
      "source": [
        "\n",
        "_NAMES = [\n",
        "    'AM General Hummer SUV 2000', 'Acura RL Sedan 2012', 'Acura TL Sedan 2012',\n",
        "    'Acura TL Type-S 2008', 'Acura TSX Sedan 2012', 'Acura Integra Type R 2001',\n",
        "    'Acura ZDX Hatchback 2012', 'Aston Martin V8 Vantage Convertible 2012',\n",
        "    'Aston Martin V8 Vantage Coupe 2012',\n",
        "    'Aston Martin Virage Convertible 2012', 'Aston Martin Virage Coupe 2012',\n",
        "    'Audi RS 4 Convertible 2008', 'Audi A5 Coupe 2012', 'Audi TTS Coupe 2012',\n",
        "    'Audi R8 Coupe 2012', 'Audi V8 Sedan 1994', 'Audi 100 Sedan 1994',\n",
        "    'Audi 100 Wagon 1994', 'Audi TT Hatchback 2011', 'Audi S6 Sedan 2011',\n",
        "    'Audi S5 Convertible 2012', 'Audi S5 Coupe 2012', 'Audi S4 Sedan 2012',\n",
        "    'Audi S4 Sedan 2007', 'Audi TT RS Coupe 2012',\n",
        "    'BMW ActiveHybrid 5 Sedan 2012', 'BMW 1 Series Convertible 2012',\n",
        "    'BMW 1 Series Coupe 2012', 'BMW 3 Series Sedan 2012',\n",
        "    'BMW 3 Series Wagon 2012', 'BMW 6 Series Convertible 2007',\n",
        "    'BMW X5 SUV 2007', 'BMW X6 SUV 2012', 'BMW M3 Coupe 2012',\n",
        "    'BMW M5 Sedan 2010', 'BMW M6 Convertible 2010', 'BMW X3 SUV 2012',\n",
        "    'BMW Z4 Convertible 2012',\n",
        "    'Bentley Continental Supersports Conv. Convertible 2012',\n",
        "    'Bentley Arnage Sedan 2009', 'Bentley Mulsanne Sedan 2011',\n",
        "    'Bentley Continental GT Coupe 2012', 'Bentley Continental GT Coupe 2007',\n",
        "    'Bentley Continental Flying Spur Sedan 2007',\n",
        "    'Bugatti Veyron 16.4 Convertible 2009', 'Bugatti Veyron 16.4 Coupe 2009',\n",
        "    'Buick Regal GS 2012', 'Buick Rainier SUV 2007', 'Buick Verano Sedan 2012',\n",
        "    'Buick Enclave SUV 2012', 'Cadillac CTS-V Sedan 2012',\n",
        "    'Cadillac SRX SUV 2012', 'Cadillac Escalade EXT Crew Cab 2007',\n",
        "    'Chevrolet Silverado 1500 Hybrid Crew Cab 2012',\n",
        "    'Chevrolet Corvette Convertible 2012', 'Chevrolet Corvette ZR1 2012',\n",
        "    'Chevrolet Corvette Ron Fellows Edition Z06 2007',\n",
        "    'Chevrolet Traverse SUV 2012', 'Chevrolet Camaro Convertible 2012',\n",
        "    'Chevrolet HHR SS 2010', 'Chevrolet Impala Sedan 2007',\n",
        "    'Chevrolet Tahoe Hybrid SUV 2012', 'Chevrolet Sonic Sedan 2012',\n",
        "    'Chevrolet Express Cargo Van 2007', 'Chevrolet Avalanche Crew Cab 2012',\n",
        "    'Chevrolet Cobalt SS 2010', 'Chevrolet Malibu Hybrid Sedan 2010',\n",
        "    'Chevrolet TrailBlazer SS 2009',\n",
        "    'Chevrolet Silverado 2500HD Regular Cab 2012',\n",
        "    'Chevrolet Silverado 1500 Classic Extended Cab 2007',\n",
        "    'Chevrolet Express Van 2007', 'Chevrolet Monte Carlo Coupe 2007',\n",
        "    'Chevrolet Malibu Sedan 2007', 'Chevrolet Silverado 1500 Extended Cab 2012',\n",
        "    'Chevrolet Silverado 1500 Regular Cab 2012', 'Chrysler Aspen SUV 2009',\n",
        "    'Chrysler Sebring Convertible 2010',\n",
        "    'Chrysler Town and Country Minivan 2012', 'Chrysler 300 SRT-8 2010',\n",
        "    'Chrysler Crossfire Convertible 2008',\n",
        "    'Chrysler PT Cruiser Convertible 2008', 'Daewoo Nubira Wagon 2002',\n",
        "    'Dodge Caliber Wagon 2012', 'Dodge Caliber Wagon 2007',\n",
        "    'Dodge Caravan Minivan 1997', 'Dodge Ram Pickup 3500 Crew Cab 2010',\n",
        "    'Dodge Ram Pickup 3500 Quad Cab 2009', 'Dodge Sprinter Cargo Van 2009',\n",
        "    'Dodge Journey SUV 2012', 'Dodge Dakota Crew Cab 2010',\n",
        "    'Dodge Dakota Club Cab 2007', 'Dodge Magnum Wagon 2008',\n",
        "    'Dodge Challenger SRT8 2011', 'Dodge Durango SUV 2012',\n",
        "    'Dodge Durango SUV 2007', 'Dodge Charger Sedan 2012',\n",
        "    'Dodge Charger SRT-8 2009', 'Eagle Talon Hatchback 1998',\n",
        "    'FIAT 500 Abarth 2012', 'FIAT 500 Convertible 2012',\n",
        "    'Ferrari FF Coupe 2012', 'Ferrari California Convertible 2012',\n",
        "    'Ferrari 458 Italia Convertible 2012', 'Ferrari 458 Italia Coupe 2012',\n",
        "    'Fisker Karma Sedan 2012', 'Ford F-450 Super Duty Crew Cab 2012',\n",
        "    'Ford Mustang Convertible 2007', 'Ford Freestar Minivan 2007',\n",
        "    'Ford Expedition EL SUV 2009', 'Ford Edge SUV 2012',\n",
        "    'Ford Ranger SuperCab 2011', 'Ford GT Coupe 2006',\n",
        "    'Ford F-150 Regular Cab 2012', 'Ford F-150 Regular Cab 2007',\n",
        "    'Ford Focus Sedan 2007', 'Ford E-Series Wagon Van 2012',\n",
        "    'Ford Fiesta Sedan 2012', 'GMC Terrain SUV 2012', 'GMC Savana Van 2012',\n",
        "    'GMC Yukon Hybrid SUV 2012', 'GMC Acadia SUV 2012',\n",
        "    'GMC Canyon Extended Cab 2012', 'Geo Metro Convertible 1993',\n",
        "    'HUMMER H3T Crew Cab 2010', 'HUMMER H2 SUT Crew Cab 2009',\n",
        "    'Honda Odyssey Minivan 2012', 'Honda Odyssey Minivan 2007',\n",
        "    'Honda Accord Coupe 2012', 'Honda Accord Sedan 2012',\n",
        "    'Hyundai Veloster Hatchback 2012', 'Hyundai Santa Fe SUV 2012',\n",
        "    'Hyundai Tucson SUV 2012', 'Hyundai Veracruz SUV 2012',\n",
        "    'Hyundai Sonata Hybrid Sedan 2012', 'Hyundai Elantra Sedan 2007',\n",
        "    'Hyundai Accent Sedan 2012', 'Hyundai Genesis Sedan 2012',\n",
        "    'Hyundai Sonata Sedan 2012', 'Hyundai Elantra Touring Hatchback 2012',\n",
        "    'Hyundai Azera Sedan 2012', 'Infiniti G Coupe IPL 2012',\n",
        "    'Infiniti QX56 SUV 2011', 'Isuzu Ascender SUV 2008', 'Jaguar XK XKR 2012',\n",
        "    'Jeep Patriot SUV 2012', 'Jeep Wrangler SUV 2012', 'Jeep Liberty SUV 2012',\n",
        "    'Jeep Grand Cherokee SUV 2012', 'Jeep Compass SUV 2012',\n",
        "    'Lamborghini Reventon Coupe 2008', 'Lamborghini Aventador Coupe 2012',\n",
        "    'Lamborghini Gallardo LP 570-4 Superleggera 2012',\n",
        "    'Lamborghini Diablo Coupe 2001', 'Land Rover Range Rover SUV 2012',\n",
        "    'Land Rover LR2 SUV 2012', 'Lincoln Town Car Sedan 2011',\n",
        "    'MINI Cooper Roadster Convertible 2012',\n",
        "    'Maybach Landaulet Convertible 2012', 'Mazda Tribute SUV 2011',\n",
        "    'McLaren MP4-12C Coupe 2012', 'Mercedes-Benz 300-Class Convertible 1993',\n",
        "    'Mercedes-Benz C-Class Sedan 2012', 'Mercedes-Benz SL-Class Coupe 2009',\n",
        "    'Mercedes-Benz E-Class Sedan 2012', 'Mercedes-Benz S-Class Sedan 2012',\n",
        "    'Mercedes-Benz Sprinter Van 2012', 'Mitsubishi Lancer Sedan 2012',\n",
        "    'Nissan Leaf Hatchback 2012', 'Nissan NV Passenger Van 2012',\n",
        "    'Nissan Juke Hatchback 2012', 'Nissan 240SX Coupe 1998',\n",
        "    'Plymouth Neon Coupe 1999', 'Porsche Panamera Sedan 2012',\n",
        "    'Ram C/V Cargo Van Minivan 2012',\n",
        "    'Rolls-Royce Phantom Drophead Coupe Convertible 2012',\n",
        "    'Rolls-Royce Ghost Sedan 2012', 'Rolls-Royce Phantom Sedan 2012',\n",
        "    'Scion xD Hatchback 2012', 'Spyker C8 Convertible 2009',\n",
        "    'Spyker C8 Coupe 2009', 'Suzuki Aerio Sedan 2007',\n",
        "    'Suzuki Kizashi Sedan 2012', 'Suzuki SX4 Hatchback 2012',\n",
        "    'Suzuki SX4 Sedan 2012', 'Tesla Model S Sedan 2012',\n",
        "    'Toyota Sequoia SUV 2012', 'Toyota Camry Sedan 2012',\n",
        "    'Toyota Corolla Sedan 2012', 'Toyota 4Runner SUV 2012',\n",
        "    'Volkswagen Golf Hatchback 2012', 'Volkswagen Golf Hatchback 1991',\n",
        "    'Volkswagen Beetle Hatchback 2012', 'Volvo C30 Hatchback 2012',\n",
        "    'Volvo 240 Sedan 1993', 'Volvo XC90 SUV 2007',\n",
        "    'smart fortwo Convertible 2012',\n",
        "]"
      ],
      "execution_count": 0,
      "outputs": []
    },
    {
      "cell_type": "code",
      "metadata": {
        "id": "VN0KYJlH529t",
        "colab_type": "code",
        "outputId": "0a3cb990-0cff-4229-9dd7-9e770d61d8cc",
        "colab": {
          "base_uri": "https://localhost:8080/",
          "height": 255
        }
      },
      "source": [
        "\n",
        "image_batch, label_batch = next(iter(train_batches))\n",
        "\n",
        "\n",
        "image_batch = image_batch.numpy()\n",
        "label_batch = label_batch.numpy()\n",
        "\n",
        "predicted_batch = model.predict(image_batch)\n",
        "predicted_batch = tf.squeeze(predicted_batch).numpy()\n",
        "\n",
        "predicted_ids = np.argmax(predicted_batch, axis=-1)\n",
        "print(predicted_ids[0])\n",
        "#predicted_class_names = _NAMES[predicted_ids]\n",
        "\n",
        "#print(predicted_class_names)"
      ],
      "execution_count": 0,
      "outputs": [
        {
          "output_type": "stream",
          "text": [
            "[100 179  65  80  21 184  91 167 132   6  96  53 151 119 165  90 107  31\n",
            "   4  35  46  50 181 143 171 113  63  83 156  96  35 152  86 124 107  31\n",
            " 176  93   1   2  12  42  48 156  27   9 104  92  47 184  73 166 153  20\n",
            "  31 167 137 130 121 129  39 131 144 194 119  41 131  52 172 164 118  12\n",
            " 185  50 118  69  25 105   3 122 159 149 192  70  64 159 172  47  59  59\n",
            "  22 160 184  13 120  39 114   8 153  13  48 157  73  78  45 147   8 171\n",
            " 144  81  77  90  36 168  40  11 119  83 122 190  19 192 135   9  31  39\n",
            " 178 146 149 183 100  49 177 195 127 112 170 170  33  63 131  95  32  81\n",
            " 194  55  64   3 152  94 190  33 159  13 125  98 117 109  14  66 129 102\n",
            " 112  51 123 147 103 112  50 155  18  95  79  93 136  47 110  93  52 137\n",
            "   4 189  15  40 103 133   1  77 148 187  70 175  78 125  54   4   4 188\n",
            "  14  34 163 166  71  97   3 179 111  41 100   8  50  73  77  49 113  27\n",
            " 143  44 110 160  71 119  76 193 156  44  36  63 127  24   5 104 155  74\n",
            " 142 192  70 123  83   5 136  10  96  66 148  83 131 128 182  49]\n"
          ],
          "name": "stdout"
        }
      ]
    },
    {
      "cell_type": "code",
      "metadata": {
        "id": "ce2QfXT_DbMt",
        "colab_type": "code",
        "outputId": "16b835af-07ef-4f5a-8461-a2b7176769f8",
        "colab": {
          "base_uri": "https://localhost:8080/",
          "height": 303
        }
      },
      "source": [
        "import matplotlib.pyplot as plt\n",
        "for image_batch, label_batch in train_batches.take(1):\n",
        "    #print(image_batch[0])\n",
        "    #print(label_batch)\n",
        "    image_index_in_batch = 1\n",
        "\n",
        "    result = model.predict(image_batch)\n",
        "\n",
        "    index_num = np.argmax(result[image_index_in_batch])\n",
        "\n",
        "    print(index_num)\n",
        "    print(_NAMES[index_num])\n",
        "    plt.figure()\n",
        "    plt.imshow(image_batch[image_index_in_batch])\n",
        "    \n",
        "    break\n"
      ],
      "execution_count": 0,
      "outputs": [
        {
          "output_type": "stream",
          "text": [
            "33\n",
            "BMW M3 Coupe 2012\n"
          ],
          "name": "stdout"
        },
        {
          "output_type": "display_data",
          "data": {
            "image/png": "[encoded data removed]",
            "text/plain": [
              "<Figure size 432x288 with 1 Axes>"
            ]
          },
          "metadata": {
            "tags": [],
            "needs_background": "light"
          }
        }
      ]
    }
  ]
}